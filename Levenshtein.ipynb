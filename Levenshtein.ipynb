{
  "cells": [
    {
      "cell_type": "code",
      "execution_count": 2,
      "id": "y8O-7Q-tADlx",
      "metadata": {
        "colab": {
          "base_uri": "https://localhost:8080/"
        },
        "id": "y8O-7Q-tADlx",
        "outputId": "aa5a9f02-313f-4670-c73d-713d14cd973c"
      },
      "outputs": [
        {
          "name": "stdout",
          "output_type": "stream",
          "text": [
            "Collecting Levenshtein\n",
            "  Downloading Levenshtein-0.23.0-cp310-cp310-macosx_11_0_arm64.whl (98 kB)\n",
            "\u001b[2K     \u001b[90m━━━━━━━━━━━━━━━━━━━━━━━━━━━━━━━━━━━━━━━━\u001b[0m \u001b[32m98.7/98.7 kB\u001b[0m \u001b[31m1.2 MB/s\u001b[0m eta \u001b[36m0:00:00\u001b[0ma \u001b[36m0:00:01\u001b[0m\n",
            "\u001b[?25hCollecting rapidfuzz<4.0.0,>=3.1.0\n",
            "  Downloading rapidfuzz-3.5.2-cp310-cp310-macosx_11_0_arm64.whl (1.1 MB)\n",
            "\u001b[2K     \u001b[90m━━━━━━━━━━━━━━━━━━━━━━━━━━━━━━━━━━━━━━━━\u001b[0m \u001b[32m1.1/1.1 MB\u001b[0m \u001b[31m3.0 MB/s\u001b[0m eta \u001b[36m0:00:00\u001b[0m00:01\u001b[0m00:01\u001b[0m\n",
            "\u001b[?25hInstalling collected packages: rapidfuzz, Levenshtein\n",
            "Successfully installed Levenshtein-0.23.0 rapidfuzz-3.5.2\n",
            "\u001b[33mWARNING: There was an error checking the latest version of pip.\u001b[0m\u001b[33m\n",
            "\u001b[0mNote: you may need to restart the kernel to use updated packages.\n"
          ]
        }
      ],
      "source": [
        "pip install Levenshtein"
      ]
    },
    {
      "cell_type": "code",
      "execution_count": 6,
      "id": "LLKnNo_s_u0-",
      "metadata": {
        "colab": {
          "base_uri": "https://localhost:8080/"
        },
        "id": "LLKnNo_s_u0-",
        "outputId": "64a390d2-4a22-4cb2-b409-9096c2caff8c"
      },
      "outputs": [],
      "source": [
        "\n",
        "import pandas as pd\n",
        "import Levenshtein as lev\n",
        "\n",
        "# Read the CSV file\n",
        "file_path = '/Users/marufahmed/Work/Apurba/ocr_dataset_evaluation/result_ccw_word.csv'\n",
        "data = pd.read_csv(file_path)\n",
        "\n",
        "# Define a function to calculate the score\n",
        "def calculate_score(ground_truth, tess_out):\n",
        "    ground_truth = \" \".join(ground_truth.split())\n",
        "    dist = lev.distance(ground_truth, tess_out)\n",
        "    score = 1 - dist / max(len(ground_truth), len(tess_out))\n",
        "    return score * 100\n",
        "\n",
        "# Convert columns to strings\n",
        "data['Text_GT'] = data['Text_GT'].astype(str)\n",
        "data['Text_Pred'] = data['Text_Pred'].astype(str)\n",
        "\n",
        "# Calculate Levenshtein distance and adjust the score\n",
        "data['Levenshtein_Distance'] = data.apply(lambda row: lev.distance(str(row['Text_GT']), str(row['Text_Pred'])), axis=1)\n",
        "max_distance = max(data['Levenshtein_Distance'])\n",
        "data['Adjusted_Score'] = data.apply(lambda row: calculate_score(row['Text_GT'], row['Text_Pred']), axis=1)\n",
        "\n",
        "# Save the updated data to a new CSV file\n",
        "data.to_csv('/Users/marufahmed/Work/Apurba/ocr_dataset_evaluation/levenshtein_v2_result_ccw_word.csv', index=False, encoding='utf-8-sig')\n"
      ]
    }
  ],
  "metadata": {
    "colab": {
      "collapsed_sections": [
        "xUm0jydy_u1t",
        "0LY4K0i8_u2E"
      ],
      "name": "Levenshtein _Rabby Vai Edited_Consider Space.ipynb",
      "provenance": []
    },
    "kernelspec": {
      "display_name": "Python 3 (ipykernel)",
      "language": "python",
      "name": "python3"
    }
  },
  "nbformat": 4,
  "nbformat_minor": 5
}
