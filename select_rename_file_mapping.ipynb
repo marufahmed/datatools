{
 "cells": [
  {
   "cell_type": "code",
   "execution_count": null,
   "metadata": {},
   "outputs": [],
   "source": [
    "import os\n",
    "import shutil\n",
    "\n",
    "# Set the paths\n",
    "base_folder = \"/path/to/base/folder\"\n",
    "new_folder = \"/path/to/new/folder\"\n",
    "\n",
    "# Iterate through each patient folder\n",
    "for patient_id in os.listdir(base_folder):\n",
    "    patient_folder = os.path.join(base_folder, patient_id)\n",
    "    \n",
    "    # Check if it's a directory\n",
    "    if os.path.isdir(patient_folder):\n",
    "        # Iterate through each scan subfolder\n",
    "        for scan_id in os.listdir(patient_folder):\n",
    "            scan_folder = os.path.join(patient_folder, scan_id)\n",
    "            \n",
    "            # Check if it's a directory\n",
    "            if os.path.isdir(scan_folder):\n",
    "                # Source path for combined_image_z.jpeg\n",
    "                source_path = os.path.join(scan_folder, 'combined_image_z.jpeg')\n",
    "                \n",
    "                # Destination filename\n",
    "                destination_filename = f\"{patient_id}-{scan_id}-combined_image_z.jpeg\"\n",
    "                \n",
    "                # Destination path in the new folder\n",
    "                destination_path = os.path.join(new_folder, destination_filename)\n",
    "                \n",
    "                # Copy the file to the new folder with the desired filename\n",
    "                shutil.copyfile(source_path, destination_path)\n",
    "\n",
    "print(\"Files copied successfully.\")\n"
   ]
  },
  {
   "cell_type": "code",
   "execution_count": null,
   "metadata": {},
   "outputs": [],
   "source": [
    "# xxxx=patient_id\n",
    "# yyyy=scan_id\n",
    "\n",
    "# folder\n",
    "# xxxx\n",
    "# \tyyyy\n",
    "# \t\tcombined_image_x.jpeg\n",
    "# \t\tcombined_image_y.jpeg\n",
    "# \t\tcombined_image_z.jpeg\n",
    "# ....\n",
    "\n",
    "# csv file:\n",
    "# patient_id\tbowel_healthy\tbowel_injury\textravasation_healthy\textravasation_injury\tkidney_healthy\tkidney_low\tkidney_high\tliver_healthy\tliver_low\tliver_high\tspleen_healthy\tspleen_low\tspleen_high\tany_injury\n",
    "# 10004\t1\t0\t0\t1\t0\t1\t0\t1\t0\t0\t0\t0\t1\t1\n",
    "# 10005\t1\t0\t1\t0\t1\t0\t0\t1\t0\t0\t1\t0\t0\t0\n",
    "\n",
    "# This script combines_image_z from each subfolder and place them in a new folder. the new file name will be associated patient_id_ct_scan_z.jpeg."
   ]
  },
  {
   "cell_type": "code",
   "execution_count": null,
   "metadata": {},
   "outputs": [],
   "source": []
  }
 ],
 "metadata": {
  "language_info": {
   "name": "python"
  }
 },
 "nbformat": 4,
 "nbformat_minor": 2
}
