{
  "nbformat": 4,
  "nbformat_minor": 0,
  "metadata": {
    "colab": {
      "provenance": [],
      "authorship_tag": "ABX9TyOelTy+GkNxaTGfhSKJa84k",
      "include_colab_link": true
    },
    "kernelspec": {
      "name": "python3",
      "display_name": "Python 3"
    },
    "language_info": {
      "name": "python"
    }
  },
  "cells": [
    {
      "cell_type": "markdown",
      "metadata": {
        "id": "view-in-github",
        "colab_type": "text"
      },
      "source": [
        "<a href=\"https://colab.research.google.com/github/marufahmed/datatools/blob/main/IOU_comparison.ipynb\" target=\"_parent\"><img src=\"https://colab.research.google.com/assets/colab-badge.svg\" alt=\"Open In Colab\"/></a>"
      ]
    },
    {
      "cell_type": "code",
      "execution_count": null,
      "metadata": {
        "id": "Y_o_j1ZlQdGm"
      },
      "outputs": [],
      "source": [
        "import json\n",
        "# Function to convert coordinates to pixel values for 2480 × 3508 resolution\n",
        "def convert_to_pixels(coordinates, original_width, original_height):\n",
        "    # Extract coordinates\n",
        "    top_left_x, top_left_y = coordinates[0]\n",
        "    bottom_right_x, bottom_right_y = coordinates[1]\n",
        "\n",
        "    # Calculate pixel values for the original resolution\n",
        "    converted_top_left_x = int((top_left_x / original_width) * 2480)\n",
        "    converted_top_left_y = int((top_left_y / original_height) * 3508)\n",
        "    converted_bottom_right_x = int((bottom_right_x / original_width) * 2480)\n",
        "    converted_bottom_right_y = int((bottom_right_y / original_height) * 3508)\n",
        "\n",
        "    return (converted_top_left_x, converted_top_left_y), (converted_bottom_right_x, converted_bottom_right_y)\n",
        "\n",
        "# Function to calculate area of a rectangle given its coordinates\n",
        "def calculate_area(points):\n",
        "    # Extract coordinates\n",
        "    top_left_x, top_left_y = points[0]\n",
        "    bottom_right_x, bottom_right_y = points[1]\n",
        "\n",
        "    # Calculate area\n",
        "    area = abs((bottom_right_x - top_left_x) * (bottom_right_y - top_left_y))\n",
        "    return area\n",
        "\n",
        "# Example usage:\n",
        "# Assuming coordinates is a list containing top-left and bottom-right coordinates for a rectangle\n",
        "original_width = 2480  # Replace with the original width of your image\n",
        "original_height = 3508  # Replace with the original height of your image\n",
        "\n",
        "# Read Ground Truth JSON and convert coordinates to pixel values\n",
        "with open('resized_images/gt1.json', 'r') as file:\n",
        "    ground_truth_data = json.load(file)\n",
        "    ground_truth_areas = []\n",
        "    for shape in ground_truth_data['shapes']:\n",
        "        # Convert coordinates to pixel values\n",
        "        converted_points = convert_to_pixels(shape['points'], original_width, original_height)\n",
        "        # Calculate area for ground truth rectangle\n",
        "        area = calculate_area(converted_points)\n",
        "        ground_truth_areas.append(area)\n",
        "    print(\"Ground truth areas:\", ground_truth_areas)\n",
        "\n",
        "\n",
        "# Read Detected Annotations JSON and convert coordinates to pixel values\n",
        "with open('resized_images/llm2.json', 'r') as file:\n",
        "    detected_data = json.load(file)\n",
        "    detected_areas = []\n",
        "    for shape in detected_data['shapes']:\n",
        "        # Convert coordinates to pixel values\n",
        "        converted_points = convert_to_pixels(shape['points'], original_width, original_height)\n",
        "        # Calculate area for detected rectangle\n",
        "        area = calculate_area(converted_points)\n",
        "        detected_areas.append(area)\n",
        "    print(\"Detected areas:\", detected_areas)\n",
        "\n",
        "# Perform IoU calculation using the calculated areas\n",
        "# Iterate through ground truth rectangles and compare with detected rectangles\n",
        "for gt_area in ground_truth_areas:\n",
        "    iou_scores = []\n",
        "    for det_area in detected_areas:\n",
        "        # Calculate overlapping area\n",
        "        intersection = min(gt_area, det_area)\n",
        "        # Calculate IoU based on overlapping area\n",
        "        iou = intersection / (gt_area + det_area - intersection)\n",
        "        iou_scores.append(iou)\n",
        "\n",
        "    print(\"IoU Scores for Ground Truth Area:\", gt_area, \":\", iou_scores)\n",
        "\n",
        "total_detected_area = sum(detected_areas)\n",
        "total_overlapping_area = sum([min(gt_area, det_area) for gt_area, det_area in zip(ground_truth_areas, detected_areas)])\n",
        "total_union_area = total_detected_area + sum(ground_truth_areas) - total_overlapping_area\n",
        "\n",
        "overall_iou = total_overlapping_area / total_union_area\n",
        "print(\"overall IOU:\", overall_iou)\n"
      ]
    }
  ]
}